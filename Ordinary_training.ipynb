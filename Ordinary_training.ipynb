{
 "cells": [
  {
   "cell_type": "markdown",
   "id": "66043746",
   "metadata": {},
   "source": [
    "## Basic importing and Hyperparameters"
   ]
  },
  {
   "cell_type": "code",
   "execution_count": 1,
   "id": "8034678d",
   "metadata": {},
   "outputs": [],
   "source": [
    "import os\n",
    "import time\n",
    "import os.path as osp\n",
    "\n",
    "import numpy as np\n",
    "import pandas as pd\n",
    "\n",
    "import torch\n",
    "import torch.nn as nn\n",
    "import torch.nn.functional as F\n",
    "import torch.optim as optim\n",
    "from torch.utils.data import DataLoader\n",
    "\n",
    "from torchvision import datasets\n",
    "from torchvision import transforms\n",
    "import torchvision\n",
    "from torch.utils.data import Subset, DataLoader\n",
    "\n",
    "import matplotlib.pyplot as plt\n",
    "from PIL import Image\n",
    "from torchcp.classification.scores import THR, APS, SAPS, RAPS\n",
    "from torchcp.classification.predictors import SplitPredictor, ClusterPredictor, ClassWisePredictor\n",
    "from torchcp.classification.loss import ConfTr\n",
    "\n",
    "BATCH_SIZE = 64"
   ]
  },
  {
   "cell_type": "code",
   "execution_count": 2,
   "id": "1bdffc12",
   "metadata": {},
   "outputs": [],
   "source": [
    "# random seed\n",
    "SEED = 1 \n",
    "NUM_CLASS = 10\n",
    "\n",
    "# Training\n",
    "BATCH_SIZE = 128\n",
    "NUM_EPOCHS = 30\n",
    "EVAL_INTERVAL=1\n",
    "SAVE_DIR = './log'\n",
    "\n",
    "# Optimizer\n",
    "LEARNING_RATE = 1e-3\n",
    "MOMENTUM = 0.9\n",
    "STEP=5\n",
    "GAMMA=0.5\n"
   ]
  },
  {
   "cell_type": "markdown",
   "id": "af8b4f25",
   "metadata": {},
   "source": [
    "## Choice of Datasets"
   ]
  },
  {
   "cell_type": "code",
   "execution_count": 3,
   "id": "03285065",
   "metadata": {},
   "outputs": [],
   "source": [
    "\"\"\"\n",
    "Change the dset num from 1 to 6 to chose the dataset\n",
    "1: STL10\n",
    "2: CIFAR10\n",
    "3: CIFAR100\n",
    "4: Stanford Dogs\n",
    "5: FasthionMINIST\n",
    "6: UTKFace\n",
    "\"\"\"\n",
    "dset = 1 # change this num in 1,2,3,4,5,6 to chose dataset."
   ]
  },
  {
   "cell_type": "markdown",
   "id": "6bb2bac5",
   "metadata": {},
   "source": [
    "#### 1. STL10"
   ]
  },
  {
   "cell_type": "code",
   "execution_count": 4,
   "id": "da76b14a",
   "metadata": {
    "jupyter": {
     "source_hidden": true
    }
   },
   "outputs": [
    {
     "name": "stdout",
     "output_type": "stream",
     "text": [
      "Files already downloaded and verified\n",
      "Files already downloaded and verified\n",
      "Total number of samples in the STL10: 5000\n"
     ]
    }
   ],
   "source": [
    "if dset == 1:\n",
    "    ## STL10\n",
    "    transform_cifar10_train = transforms.Compose([\n",
    "        transforms.Resize(size=128),\n",
    "        transforms.RandomHorizontalFlip(),\n",
    "        transforms.ToTensor(),\n",
    "        transforms.Normalize((0.4914, 0.4822, 0.4465), (0.2023, 0.1994, 0.2010)),\n",
    "    ])\n",
    "\n",
    "    transform_cifar10_test = transforms.Compose([\n",
    "        # Add a resize operation to match training size\n",
    "        transforms.Resize(size=32),\n",
    "        transforms.ToTensor(),\n",
    "        transforms.Normalize((0.4914, 0.4822, 0.4465), (0.2023, 0.1994, 0.2010)),\n",
    "    ])\n",
    "\n",
    "    train_set = torchvision.datasets.STL10(root='/data/lab/data', split='train',\n",
    "                                           download=True, transform=transform_cifar10_train)\n",
    "    train_dataloader = torch.utils.data.DataLoader(train_set, batch_size=BATCH_SIZE,\n",
    "                                             shuffle=True, num_workers=2,pin_memory=True)\n",
    "    test_set = torchvision.datasets.STL10(root='/data/lab/data', split='test',\n",
    "                                           download=True, transform=transform_cifar10_test)\n",
    "    cal_dataset, test_dataset = torch.utils.data.random_split(test_set, [4000, 4000])\n",
    "    # test_dataloader = torch.utils.data.DataLoader(test_set, batch_size=BATCH_SIZE,\n",
    "    #                                          shuffle=False, num_workers=2,pin_memory=True)\n",
    "    cal_data_loader = torch.utils.data.DataLoader(cal_dataset, batch_size=1600, shuffle=False, pin_memory=True)\n",
    "    test_data_loader = torch.utils.data.DataLoader(test_dataset, batch_size=1600, shuffle=False, pin_memory=True)\n",
    "\n",
    "\n",
    "\n",
    "    class_names = ['airplane', 'bird', 'car', 'cat', 'deer', 'dog', 'horse', 'monkey', 'ship', 'truck']\n",
    "\n",
    "\n",
    "    dataset_name = 'STL10'\n",
    "\n",
    "    data_loader_size = len(train_dataloader.dataset)\n",
    "    print(f\"Total number of samples in the STL10: {data_loader_size}\")\n",
    "\n",
    "    class_less = True # mark the amount of class number(less or equal than 10 is marked True)\n",
    "\n",
    "    # Preparing a calibration data and a test data.\n",
    "    train_data_loader = train_dataloader\n",
    "    # cal_data_loader = torch.utils.data.DataLoader(train_set, batch_size=1600, shuffle=False, pin_memory=True)\n",
    "    # test_data_loader = torch.utils.data.DataLoader(test_set, batch_size=1600, shuffle=False, pin_memory=True)"
   ]
  },
  {
   "cell_type": "markdown",
   "id": "66120f48",
   "metadata": {},
   "source": [
    "#### 2. CIFAR10"
   ]
  },
  {
   "cell_type": "code",
   "execution_count": 5,
   "id": "7568d8e8",
   "metadata": {
    "jupyter": {
     "source_hidden": true
    }
   },
   "outputs": [],
   "source": [
    "if dset == 2:\n",
    "    # CIFAR10\n",
    "    transform_cifar10_test = transforms.Compose([\n",
    "        transforms.Resize(size=32),\n",
    "        transforms.CenterCrop(size=(32, 32)),\n",
    "        transforms.ToTensor(),\n",
    "        transforms.Normalize((0.4914, 0.4822, 0.4465), (0.2023, 0.1994, 0.2010)),\n",
    "    ])\n",
    "\n",
    "    test_set = torchvision.datasets.CIFAR10(root='/data/lab/data', train=False,\n",
    "                                           download=True, transform=transform_cifar10_test)\n",
    "    train_set = torchvision.datasets.CIFAR10(root='/data/lab/data', train=True,\n",
    "                                           download=True, transform=transform_cifar10_test)\n",
    "\n",
    "    # resize test and train dataset\n",
    "    test_set = Subset(test_set, range(10000))##10000\n",
    "    train_set = Subset(train_set, range(10000))##10000\n",
    "    # #######################\n",
    "\n",
    "\n",
    "    # test_dataloader = torch.utils.data.DataLoader(test_set, batch_size=BATCH_SIZE,\n",
    "    #                                          shuffle=True, num_workers=2)\n",
    "    train_dataloader = torch.utils.data.DataLoader(train_set, batch_size=BATCH_SIZE,\n",
    "                                             shuffle=True, num_workers=2,pin_memory=True)\n",
    "    # set calibration and test dataloader\n",
    "    cal_dataset, test_dataset = torch.utils.data.random_split(test_set, [5000, 5000])\n",
    "    cal_data_loader = torch.utils.data.DataLoader(cal_dataset, batch_size=1600, shuffle=False, pin_memory=True)\n",
    "    test_data_loader = torch.utils.data.DataLoader(test_dataset, batch_size=1600, shuffle=False, pin_memory=True)\n",
    "\n",
    "    class_names = ['airplane', 'automobile', 'bird', 'cat', 'deer', 'dog', 'frog', 'horse', 'ship', 'truck']\n",
    "    dataset_name = 'CIFAR10'\n",
    "\n",
    "    data_loader_size = len(test_data_loader.dataset)\n",
    "    print(f\"Total number of samples in the CIFAR10: {data_loader_size}\")\n",
    "\n",
    "    class_less = True # mark the amount of class number(less or equal than 10 is marked True)"
   ]
  },
  {
   "cell_type": "markdown",
   "id": "5fce5a39",
   "metadata": {},
   "source": [
    "#### 3. CIFAR100"
   ]
  },
  {
   "cell_type": "code",
   "execution_count": 6,
   "id": "a25a9520",
   "metadata": {
    "jupyter": {
     "source_hidden": true
    }
   },
   "outputs": [],
   "source": [
    "if dset == 3:\n",
    "    ## CIFAR100\n",
    "    transform_cifar100_test = transforms.Compose([\n",
    "        transforms.Resize(size=32),\n",
    "        transforms.CenterCrop(size=(32, 32)),\n",
    "        transforms.ToTensor(),\n",
    "        transforms.Normalize((0.4914, 0.4822, 0.4465), (0.2023, 0.1994, 0.2010)),\n",
    "    ])\n",
    "\n",
    "    test_set = torchvision.datasets.CIFAR100(root='/data/lab/data', train=False,\n",
    "                                           download=True, transform=transform_cifar100_test)\n",
    "    train_set = torchvision.datasets.CIFAR100(root='/data/lab/data', train=True,\n",
    "                                           download=True, transform=transform_cifar100_test)\n",
    "\n",
    "    # resize test and train dataset\n",
    "    test_set = Subset(test_set, range(10000))##10000\n",
    "    train_set = Subset(train_set, range(10000))##10000\n",
    "    # #######################\n",
    "\n",
    "    train_dataloader = torch.utils.data.DataLoader(train_set, batch_size=BATCH_SIZE,\n",
    "                                             shuffle=True, num_workers=2)\n",
    "    # set calibration and test dataloader\n",
    "    cal_dataset, test_dataset = torch.utils.data.random_split(test_set, [5000, 5000])\n",
    "    cal_data_loader = torch.utils.data.DataLoader(cal_dataset, batch_size=1600, shuffle=False, pin_memory=True)\n",
    "    test_data_loader = torch.utils.data.DataLoader(test_dataset, batch_size=1600, shuffle=False, pin_memory=True)\n",
    "\n",
    "    class_names = [\n",
    "        'apple', 'aquarium_fish', 'baby', 'bear', 'beaver', 'bed', 'bee', 'beetle', 'bicycle', 'bottle',\n",
    "        'bowl', 'boy', 'bridge', 'bus', 'butterfly', 'camel', 'can', 'castle', 'caterpillar', 'cattle',\n",
    "        'chair', 'chimpanzee', 'clock', 'cloud', 'cockroach', 'couch', 'crab', 'crocodile', 'cup', 'dinosaur',\n",
    "        'dolphin', 'elephant', 'flatfish', 'forest', 'fox', 'girl', 'hamster', 'house', 'kangaroo', 'keyboard',\n",
    "        'lamp', 'lawn_mower', 'leopard', 'lion', 'lizard', 'lobster', 'man', 'maple_tree', 'motorcycle', 'mountain',\n",
    "        'mouse', 'mushroom', 'oak_tree', 'orange', 'orchid', 'otter', 'palm_tree', 'pear', 'pickup_truck', 'pine_tree',\n",
    "        'plain', 'plate', 'poppy', 'porcupine', 'possum', 'rabbit', 'raccoon', 'ray', 'road', 'rocket', 'rose',\n",
    "        'sea', 'seal', 'shark', 'shrew', 'skunk', 'skyscraper', 'snail', 'snake', 'spider', 'squirrel', 'streetcar',\n",
    "        'sunflower', 'sweet_pepper', 'table', 'tank', 'telephone', 'television', 'tiger', 'tractor', 'train', 'trout',\n",
    "        'tulip', 'turtle', 'wardrobe', 'whale', 'willow_tree', 'wolf', 'woman', 'worm'\n",
    "    ]\n",
    "\n",
    "    dataset_name = 'CIFAR100'\n",
    "\n",
    "    data_loader_size = len(test_data_loader.dataset)\n",
    "    print(f\"Total number of samples in the CIFAR100: {data_loader_size}\")\n",
    "\n",
    "    class_less = False # mark the amount of class number(less or equal than 10 is marked True)"
   ]
  },
  {
   "cell_type": "markdown",
   "id": "b9a4d4ca",
   "metadata": {},
   "source": [
    "#### 4. Stanford dogs"
   ]
  },
  {
   "cell_type": "code",
   "execution_count": 7,
   "id": "80cb39bf",
   "metadata": {
    "jupyter": {
     "source_hidden": true
    }
   },
   "outputs": [],
   "source": [
    "if dset == 4:\n",
    "    ##stanford dogs\n",
    "    size = 128\n",
    "    transform_stanford_dogs_test = transforms.Compose([\n",
    "        transforms.Resize(size=size),\n",
    "        transforms.CenterCrop(size=size),\n",
    "        transforms.ToTensor(),\n",
    "        transforms.Normalize(mean=[0.485, 0.456, 0.406], std=[0.229, 0.224, 0.225]),\n",
    "    ])\n",
    "\n",
    "    # Replace 'root_directory' with the path to the directory containing the Stanford Dogs dataset\n",
    "    test_set = datasets.ImageFolder(root='/data/lab/data/Images', transform=transform_stanford_dogs_test)\n",
    "    class_names = test_set.classes\n",
    "\n",
    "    test_set = Subset(test_set, range(20000))##10000\n",
    "\n",
    "    cal_dataset, test_dataset, train_set = torch.utils.data.random_split(test_set, [5000, 5000,10000])\n",
    "\n",
    "    train_dataloader = torch.utils.data.DataLoader(train_set, batch_size=BATCH_SIZE,\n",
    "                                             shuffle=True, num_workers=2)\n",
    "    cal_data_loader = torch.utils.data.DataLoader(cal_dataset, batch_size=256, shuffle=True, pin_memory=True)\n",
    "    test_data_loader = torch.utils.data.DataLoader(test_dataset, batch_size=256, shuffle=True, pin_memory=True)\n",
    "\n",
    "\n",
    "    # List of class names for the Stanford Dogs dataset (based on the breed names)\n",
    "\n",
    "    dataset_name = 'Stanford Dogs'\n",
    "\n",
    "    data_loader_size = len(test_data_loader.dataset)\n",
    "    print(f\"Total number of samples in the Stanford Dogs dataset: {data_loader_size}\")\n",
    "\n",
    "    class_less = False # mark the amount of class number(less or equal than 10 is marked True)"
   ]
  },
  {
   "cell_type": "markdown",
   "id": "4c331bc2",
   "metadata": {},
   "source": [
    "#### 5. Fashionminist"
   ]
  },
  {
   "cell_type": "code",
   "execution_count": 8,
   "id": "897ea2ee",
   "metadata": {
    "jupyter": {
     "source_hidden": true
    }
   },
   "outputs": [],
   "source": [
    "if dset == 5:\n",
    "    transform_fashionmnist_test = transforms.Compose([\n",
    "        transforms.Grayscale(num_output_channels=3),\n",
    "        transforms.Resize(size=128),\n",
    "        transforms.CenterCrop(size=(128, 128)),\n",
    "        transforms.ToTensor(),\n",
    "        transforms.Normalize((0.1307,), (0.3081,))  # Use FashionMNIST mean and std\n",
    "    ])\n",
    "\n",
    "    test_set = torchvision.datasets.FashionMNIST(root='/data/lab/data', \n",
    "                                                 download=True, \n",
    "                                                 train=False,  # Set train=False for the test set\n",
    "                                                 transform=transform_fashionmnist_test)\n",
    "    test_set = Subset(test_set, range(10000))##5000\n",
    "    train_set = torchvision.datasets.FashionMNIST(root='/data/lab/data', train=True,\n",
    "                                           download=True, transform=transform_fashionmnist_test)\n",
    "    train_set = Subset(train_set, range(10000))##5000\n",
    "\n",
    "    train_dataloader = torch.utils.data.DataLoader(train_set, batch_size=BATCH_SIZE,\n",
    "                                             shuffle=True, num_workers=2)\n",
    "\n",
    "\n",
    "    cal_dataset, test_dataset = torch.utils.data.random_split(test_set, [5000, 5000])\n",
    "    cal_data_loader = torch.utils.data.DataLoader(cal_dataset, batch_size=256, shuffle=False, pin_memory=True)\n",
    "    test_data_loader = torch.utils.data.DataLoader(test_dataset, batch_size=256, shuffle=False, pin_memory=True)\n",
    "\n",
    "    class_names = ['T-shirt/top', 'Trouser', 'Pullover', 'Dress', 'Coat', 'Sandal', 'Shirt', 'Sneaker', 'Bag', 'Ankle boot']\n",
    "\n",
    "    dataset_name = 'FashionMNIST'\n",
    "\n",
    "    data_loader_size = len(test_data_loader.dataset)\n",
    "    print(f\"Total number of samples in the FashionMNIST test set: {data_loader_size}\")\n",
    "\n",
    "    class_less = len(class_names) <= 10  # Check if the number of classes is 10 or less\n"
   ]
  },
  {
   "cell_type": "markdown",
   "id": "4cb2769a",
   "metadata": {},
   "source": [
    "#### 6. UTKFace"
   ]
  },
  {
   "cell_type": "code",
   "execution_count": 9,
   "id": "58d0ea6b",
   "metadata": {
    "jupyter": {
     "source_hidden": true
    }
   },
   "outputs": [],
   "source": [
    "if dset == 6:    \n",
    "    ##UTKFace for RESNET18\n",
    "    BATCH_SIZE = 256\n",
    "    size = 128\n",
    "    transform_stanford_dogs = transforms.Compose([\n",
    "        transforms.Resize(size=size),\n",
    "        transforms.CenterCrop(size=size),\n",
    "        transforms.ToTensor(),\n",
    "        transforms.Normalize(mean=[0.485, 0.456, 0.406], std=[0.229, 0.224, 0.225]),\n",
    "    ])\n",
    "    root_directory = '/data/lab/data/UTKFace_age'\n",
    "    full_dataset = datasets.ImageFolder(root=root_directory, transform=transform_stanford_dogs)\n",
    "\n",
    "    # Define the ratio of train and test split\n",
    "    train_ratio = 0.6\n",
    "    test_ratio = 0.2\n",
    "    cal_ratio = 0.2\n",
    "\n",
    "    # Calculate the sizes of train and test sets\n",
    "    train_size = int(train_ratio * len(full_dataset))\n",
    "    test_size = int(test_ratio * len(full_dataset))\n",
    "    cal_size = len(full_dataset) - train_size - test_size\n",
    "\n",
    "    # Split the dataset into train and test sets\n",
    "    train_set, test_set,cal_dataset = torch.utils.data.random_split(full_dataset, [train_size, test_size,cal_size])\n",
    "\n",
    "    # Create DataLoaders for train and test sets\n",
    "    train_dataloader = DataLoader(train_set, batch_size=BATCH_SIZE, shuffle=True, num_workers=2)\n",
    "    test_data_loader = DataLoader(test_set, batch_size=BATCH_SIZE, shuffle=True, num_workers=2)\n",
    "    cal_data_loader = DataLoader(cal_dataset, batch_size=BATCH_SIZE, shuffle=True, num_workers=2)\n",
    "\n",
    "    # List of class names for the Stanford Dogs dataset (based on the breed names)\n",
    "    class_names = full_dataset.classes\n",
    "\n",
    "    num_classes = len(class_names)\n",
    "\n",
    "    dataset_name = 'UTKFace_age'\n",
    "\n",
    "    print(num_classes)\n",
    "    # data_loader_size = len(test_dataloader.dataset)\n",
    "    # print(f\"Total number of samples in the UTKFace dataset: {data_loader_size}\")\n",
    "\n",
    "    class_less = False # mark the amount of class number(less or equal than 10 is marked True)"
   ]
  },
  {
   "cell_type": "markdown",
   "id": "44cd1c54",
   "metadata": {},
   "source": [
    "## Model defination"
   ]
  },
  {
   "cell_type": "code",
   "execution_count": 9,
   "id": "265fcd31",
   "metadata": {},
   "outputs": [
    {
     "name": "stdout",
     "output_type": "stream",
     "text": [
      "Epoch [1, 79], Loss: 3.4111\n",
      "Epoch [2, 79], Loss: 2.5256\n",
      "Epoch [3, 79], Loss: 2.0286\n",
      "Epoch [4, 79], Loss: 1.6819\n",
      "Epoch [5, 79], Loss: 1.4073\n",
      "Epoch [6, 79], Loss: 1.1702\n",
      "Epoch [7, 79], Loss: 0.9846\n",
      "Epoch [8, 79], Loss: 0.8123\n",
      "Epoch [9, 79], Loss: 0.6674\n",
      "Epoch [10, 79], Loss: 0.5297\n",
      "Finished Training\n"
     ]
    }
   ],
   "source": [
    "model_name = 'ResNet18'\n",
    "\n",
    "model = torchvision.models.resnet18(weights=\"IMAGENET1K_V1\", progress=True)\n",
    "# model = torchvision.models.resnet50(weights=\"IMAGENET1K_V1\", progress=True)\n",
    "num_ftrs = model.fc.in_features\n",
    "\n",
    "# 替换模型最后的全连接层\n",
    "model.fc = nn.Linear(num_ftrs, len(class_names))\n",
    "\n",
    "# 将模型移至GPU（如果可用）\n",
    "device = torch.device(\"cuda:0\" if torch.cuda.is_available() else \"cpu\")\n",
    "model = model.to(device)\n",
    "\n",
    "# 定义损失函数和优化器\n",
    "criterion = nn.CrossEntropyLoss()\n",
    "optimizer = optim.SGD(model.parameters(), lr=0.001, momentum=0.9)\n",
    "\n",
    "# 训练模型\n",
    "for epoch in range(10):  # 训练10个epoch\n",
    "    running_loss = 0.0\n",
    "    for i, data in enumerate(train_dataloader, 0):\n",
    "        inputs, labels = data\n",
    "        inputs, labels = inputs.to(device), labels.to(device)\n",
    "\n",
    "        optimizer.zero_grad()\n",
    "\n",
    "        outputs = model(inputs)\n",
    "        loss = criterion(outputs, labels)\n",
    "        loss.backward()\n",
    "        optimizer.step()\n",
    "\n",
    "        running_loss += loss.item()\n",
    "        \n",
    "        if i % 100 == 99:    # 每100个batch输出一次损失\n",
    "            print(f'Epoch [{epoch + 1}, {i + 1}], Loss: {running_loss / 100:.4f}')\n",
    "            running_loss = 0.0\n",
    "    print(f'Epoch [{epoch + 1}, {i + 1}], Loss: {running_loss / 100:.4f}')\n",
    "\n",
    "\n",
    "print('Finished Training')\n",
    "\n",
    "# 保存训练好的模型\n",
    "torch.save(model.state_dict(), 'resnet_cifar10.pth')"
   ]
  },
  {
   "cell_type": "markdown",
   "id": "6b192a1c",
   "metadata": {},
   "source": [
    "## Conformal Prediction"
   ]
  },
  {
   "cell_type": "code",
   "execution_count": 10,
   "id": "19511ecc",
   "metadata": {},
   "outputs": [
    {
     "name": "stdout",
     "output_type": "stream",
     "text": [
      "Experiment--Data : CIFAR100, Model : ResNet18, Alpha : 0.1\n",
      "The size of calibration set is 5000.\n",
      "0: {'Coverage_rate': 0.897, 'Average_size': 22.5688}\n",
      "1: {'Coverage_rate': 0.8982, 'Average_size': 23.5152}\n",
      "2: {'Coverage_rate': 0.898, 'Average_size': 24.4168}\n",
      "\n",
      "\n",
      "3: {'Coverage_rate': 0.8978, 'Average_size': 27.4132}\n",
      "4: {'Coverage_rate': 0.9032, 'Average_size': 28.0246}\n",
      "5: {'Coverage_rate': 0.8968, 'Average_size': 28.8158}\n",
      "\n",
      "\n",
      "6: {'Coverage_rate': 0.8926, 'Average_size': 25.3258}\n",
      "7: {'Coverage_rate': 0.8958, 'Average_size': 26.4112}\n",
      "8: {'Coverage_rate': 0.8988, 'Average_size': 28.2056}\n",
      "\n",
      "\n",
      "9: {'Coverage_rate': 0.8952, 'Average_size': 23.3368}\n",
      "10: {'Coverage_rate': 0.9002, 'Average_size': 24.0316}\n",
      "11: {'Coverage_rate': 0.898, 'Average_size': 26.0138}\n",
      "\n",
      "\n"
     ]
    }
   ],
   "source": [
    "alpha = 0.1\n",
    "weight = 0.2 ## from 0.02 to 0.6\n",
    "penalty = 0.001 ## from 0.001 to 0.01\n",
    "\n",
    "# print basic settings\n",
    "print(f\"Experiment--Data : {dataset_name}, Model : {model_name}, Alpha : {alpha}\")\n",
    "print(f\"The size of calibration set is {len(cal_dataset)}.\")\n",
    "\n",
    "# write outcomes to a txt\n",
    "with open('Wide_Compare.txt', 'a') as file:\n",
    "            file.write(f\"--------------------------------\\n\")\n",
    "            file.write(f\"Dataset: {dataset_name}\\n\")\n",
    "            file.write(f\"Model: {model_name}\\n\")\n",
    "            file.write(f\"Size of classes: {len(class_names)}\\n\")\n",
    "            file.write(f\"SAPS weight: {weight}\\n\")\n",
    "            file.write(f\"PAPS penalty: {penalty}\\n\")\n",
    "            \n",
    "t = 0 # recorder of score and predictor\n",
    "            \n",
    "\n",
    "# Options of score function: THR, APS, SAPS, RAPS\n",
    "# Define a conformal prediction algorithm. Optional: SplitPredictor, ClusterPredictor, ClassWisePredictor\n",
    "for score in [THR(),APS(),SAPS(weight = weight),RAPS(penalty = penalty)]:\n",
    "    for predictor in [SplitPredictor(score_function=score,model= model)\n",
    "                      ,ClusterPredictor(score_function=score,model= model)\n",
    "                      ,ClassWisePredictor(score_function=score,model= model)]:\n",
    "        \n",
    "        # Calibrating the predictor with significance level as 0.1\n",
    "        predictor.calibrate(cal_data_loader, alpha)\n",
    "        evaluate = predictor.evaluate(test_data_loader)\n",
    "        \n",
    "        # write outcomes to a txt\n",
    "        with open('Wide_Compare_simple.txt', 'a') as file:\n",
    "            file.write(f\"--------------{t}--------------\\n\")\n",
    "            file.write(f\"Coverage_rate: {evaluate['Coverage_rate']}\\n\")\n",
    "            file.write(f\"Average_size: {evaluate['Average_size']}\\n\")\n",
    "        \n",
    "        # print outcomes\n",
    "        print(f'{t}: {evaluate}')\n",
    "        if t%3 == 2:\n",
    "            print('\\n')\n",
    "        t+=1"
   ]
  }
 ],
 "metadata": {
  "kernelspec": {
   "display_name": "Python 3 (ipykernel)",
   "language": "python",
   "name": "python3"
  },
  "language_info": {
   "codemirror_mode": {
    "name": "ipython",
    "version": 3
   },
   "file_extension": ".py",
   "mimetype": "text/x-python",
   "name": "python",
   "nbconvert_exporter": "python",
   "pygments_lexer": "ipython3",
   "version": "3.10.12"
  }
 },
 "nbformat": 4,
 "nbformat_minor": 5
}
